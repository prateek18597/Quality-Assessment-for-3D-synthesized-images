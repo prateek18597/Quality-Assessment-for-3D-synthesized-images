{
 "cells": [
  {
   "cell_type": "markdown",
   "metadata": {},
   "source": [
    "**Importing Useful Libraries**"
   ]
  },
  {
   "cell_type": "code",
   "execution_count": 278,
   "metadata": {},
   "outputs": [],
   "source": [
    "import cv2\n",
    "import numpy as np\n",
    "import math\n",
    "import sys\n",
    "import xlrd\n",
    "from skimage.measure import structural_similarity as ssim\n",
    "from scipy.stats.stats import pearsonr"
   ]
  },
  {
   "cell_type": "markdown",
   "metadata": {},
   "source": [
    "**Loading Images from DIBR Dataset**"
   ]
  },
  {
   "cell_type": "code",
   "execution_count": 279,
   "metadata": {},
   "outputs": [],
   "source": [
    "images=[]\n",
    "oimages=[]\n",
    "for i in range(1,85,1):\n",
    "    images.append(cv2.imread(\"./DIBR_Data/\"+str(i)+\".png\",0));"
   ]
  },
  {
   "cell_type": "markdown",
   "metadata": {},
   "source": [
    "**Loading Subjective score of images**"
   ]
  },
  {
   "cell_type": "code",
   "execution_count": 280,
   "metadata": {},
   "outputs": [],
   "source": [
    "loc = (\"./DMOS_DIBR.xls\"); \n",
    "wb = xlrd.open_workbook(loc) \n",
    "sheet = wb.sheet_by_index(0) \n",
    "dmos=[]\n",
    "for i in range(0,84,1):\n",
    "    dmos.append(sheet.cell_value(i, 0)) "
   ]
  },
  {
   "cell_type": "markdown",
   "metadata": {},
   "source": [
    "**Counting the number of Black pixels in images with a threshold value of 15.**"
   ]
  },
  {
   "cell_type": "code",
   "execution_count": 283,
   "metadata": {},
   "outputs": [],
   "source": [
    "geo_distortion=[]\n",
    "count=[]\n",
    "for img in images:\n",
    "    ii=np.empty((len(img),len(img[0])),dtype=np.float64);\n",
    "    c=5\n",
    "    for i in range(0,len(img),1):\n",
    "        for j in range(0,len(img[0]),1):\n",
    "            if img[i][j]>15:\n",
    "                ii[i][j]=255.0;\n",
    "            else:\n",
    "                ii[i][j]<=15.0;\n",
    "                c=c+1;\n",
    "    geo_distortion.append(ii);\n",
    "    count.append(c);"
   ]
  },
  {
   "cell_type": "markdown",
   "metadata": {},
   "source": [
    "**Calculating variance in images using laplacian.**"
   ]
  },
  {
   "cell_type": "code",
   "execution_count": 284,
   "metadata": {},
   "outputs": [],
   "source": [
    "var_images=[]\n",
    "var_geo_images=[]\n",
    "for i in range(0,84,1):\n",
    "    var_images.append(cv2.Laplacian(images[i], cv2.CV_64F).var())\n",
    "    var_geo_images.append(cv2.Laplacian(geo_distortion[i], cv2.CV_64F).var())"
   ]
  },
  {
   "cell_type": "markdown",
   "metadata": {},
   "source": [
    "**Normalizing value of Variance**"
   ]
  },
  {
   "cell_type": "code",
   "execution_count": 285,
   "metadata": {},
   "outputs": [],
   "source": [
    "norm_images = [float(i)/sum(var_images) for i in var_images]\n",
    "norm_geo_images = [float(i)/sum(var_geo_images) for i in var_geo_images]"
   ]
  },
  {
   "cell_type": "code",
   "execution_count": 286,
   "metadata": {},
   "outputs": [
    {
     "name": "stdout",
     "output_type": "stream",
     "text": [
      "PLCC Value obtained by using area covered by black pixels in images\n",
      "0.635551143925\n"
     ]
    }
   ],
   "source": [
    "print(\"PLCC Value obtained by using area covered by black pixels in images\\n\"+str(abs(pearsonr(count,dmos)[0])))"
   ]
  },
  {
   "cell_type": "markdown",
   "metadata": {},
   "source": [
    "**Images contains blurred region around the edges of object so adjacent columns in images contains almost same pixel value.**"
   ]
  },
  {
   "cell_type": "code",
   "execution_count": 287,
   "metadata": {},
   "outputs": [],
   "source": [
    "column_count=[]\n",
    "for img in images:\n",
    "    c=0\n",
    "    for j in range(0,len(img[0])-1,1):\n",
    "        if np.all(np.abs(np.subtract(img[:,j],img[:,j+1]))<25):\n",
    "            c=c+1\n",
    "    column_count.append(c)"
   ]
  },
  {
   "cell_type": "markdown",
   "metadata": {},
   "source": [
    "**Normalizing value of count of black pixels and count of matching columns**"
   ]
  },
  {
   "cell_type": "code",
   "execution_count": 288,
   "metadata": {},
   "outputs": [
    {
     "name": "stdout",
     "output_type": "stream",
     "text": [
      "PLCC using 3 attributes of Image: 0.656470498142\n"
     ]
    }
   ],
   "source": [
    "norm_count = [float(i)/sum(count) for i in count]\n",
    "norm_column_count = [float(i)/sum(column_count) for i in column_count]\n",
    "\n",
    "# Combining count of black pixels, count of matching columns and variance of image to give PLCC\n",
    "norm_combine = [5*norm_count[i]+norm_column_count[i]-0.8*norm_images[i] for i in range(0,84,1)]\n",
    "\n",
    "print(\"PLCC using 3 attributes of Image: \"+str(abs(pearsonr(norm_combine,dmos)[0])))"
   ]
  },
  {
   "cell_type": "markdown",
   "metadata": {},
   "source": [
    "**Applying Gaussian Filter on images and extracting edges and other high frequency information from images.**"
   ]
  },
  {
   "cell_type": "code",
   "execution_count": 289,
   "metadata": {},
   "outputs": [],
   "source": [
    "gaussian_images=[]\n",
    "for i in range(0,84,1):\n",
    "    blur = cv2.GaussianBlur(images[i],(3,3),1.25)\n",
    "    blur_distorted= cv2.GaussianBlur(geo_distortion[i],(3,3),1.25)\n",
    "    gaussian_images.append(cv2.subtract(images[i],blur));\n",
    "    gaussian_images_distorted.append(cv2.subtract(geo_distortion[i],blur_distorted));"
   ]
  },
  {
   "cell_type": "code",
   "execution_count": 290,
   "metadata": {},
   "outputs": [],
   "source": [
    "gaussian_images_sub=[]\n",
    "sum_gaussian_sub_images=[]\n",
    "for i in range(0,84,1):\n",
    "    x=cv2.subtract(gaussian_images[i],gaussian_images_distorted[i])\n",
    "    gaussian_images_sub.append(x);\n",
    "    sum_gaussian_sub_images.append(x.sum());"
   ]
  },
  {
   "cell_type": "code",
   "execution_count": 291,
   "metadata": {},
   "outputs": [
    {
     "name": "stdout",
     "output_type": "stream",
     "text": [
      "PLCC using 4 attributes of Image: 0.666513938545\n"
     ]
    }
   ],
   "source": [
    "norm_sum_gaussian_sub_images=[float(i)/sum(sum_gaussian_sub_images) for i in sum_gaussian_sub_images]\n",
    "\n",
    "norm_combination = [5*norm_count[i]+0.8*norm_column_count[i]-1.2*norm_images[i]+18*norm_sum_gaussian_sub_images[i] for i in range(0,84,1)]\n",
    "\n",
    "print(\"PLCC using 4 attributes of Image: \"+str(abs(pearsonr(norm_combination,dmos)[0])))"
   ]
  },
  {
   "cell_type": "code",
   "execution_count": null,
   "metadata": {},
   "outputs": [],
   "source": []
  }
 ],
 "metadata": {
  "kernelspec": {
   "display_name": "Python 2",
   "language": "python",
   "name": "python2"
  },
  "language_info": {
   "codemirror_mode": {
    "name": "ipython",
    "version": 2
   },
   "file_extension": ".py",
   "mimetype": "text/x-python",
   "name": "python",
   "nbconvert_exporter": "python",
   "pygments_lexer": "ipython2",
   "version": "2.7.12"
  }
 },
 "nbformat": 4,
 "nbformat_minor": 2
}
