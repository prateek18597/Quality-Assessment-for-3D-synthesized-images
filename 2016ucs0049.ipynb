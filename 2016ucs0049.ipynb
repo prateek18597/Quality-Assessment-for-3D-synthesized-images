{
 "cells": [
  {
   "cell_type": "markdown",
   "metadata": {},
   "source": [
    "**Importing Useful Libraries**"
   ]
  },
  {
   "cell_type": "code",
   "execution_count": 1,
   "metadata": {},
   "outputs": [],
   "source": [
    "import cv2\n",
    "import numpy as np\n",
    "from numpy.linalg import inv\n",
    "import math\n",
    "import sys\n",
    "%matplotlib inline\n",
    "import matplotlib.pyplot as plt\n",
    "import matplotlib.image as mpimg\n",
    "import xlrd\n",
    "from skimage.measure import structural_similarity as ssim\n",
    "from scipy.stats.stats import pearsonr"
   ]
  },
  {
   "cell_type": "markdown",
   "metadata": {},
   "source": [
    "**Loading Raw and Original Images(Bayer Canon Images without Noise are used)**"
   ]
  },
  {
   "cell_type": "code",
   "execution_count": 2,
   "metadata": {},
   "outputs": [],
   "source": [
    "images=[]\n",
    "oimages=[]\n",
    "for i in range(1,85,1):\n",
    "    images.append(cv2.imread(\"./DIBR_Data/\"+str(i)+\".png\",0));"
   ]
  },
  {
   "cell_type": "code",
   "execution_count": null,
   "metadata": {},
   "outputs": [],
   "source": []
  },
  {
   "cell_type": "code",
   "execution_count": 3,
   "metadata": {},
   "outputs": [],
   "source": [
    "geo_distortion=[]\n",
    "count=[]\n",
    "for img in images:\n",
    "    ii=np.empty((len(img),len(img[0])),dtype=np.uint8);\n",
    "    c=5\n",
    "    for i in range(0,len(img),1):\n",
    "        for j in range(0,len(img[0]),1):\n",
    "            if img[i][j]>15:\n",
    "                ii[i][j]=255;\n",
    "            else:\n",
    "                ii[i][j]<=15;\n",
    "                c=c+1;\n",
    "    geo_distortion.append(ii);\n",
    "    count.append(c);"
   ]
  },
  {
   "cell_type": "code",
   "execution_count": 25,
   "metadata": {},
   "outputs": [],
   "source": [
    "var_images=[]\n",
    "var_geo_images=[]\n",
    "for i in range(0,84,1):\n",
    "    var_images.append(cv2.Laplacian(images[i], cv2.CV_64F).var())\n",
    "    var_geo_images.append(cv2.Laplacian(geo_distortion[i], cv2.CV_64F).var())"
   ]
  },
  {
   "cell_type": "code",
   "execution_count": 26,
   "metadata": {},
   "outputs": [],
   "source": [
    "norm_images = [float(i)/sum(var_images) for i in var_images]\n",
    "norm_geo_images = [float(i)/sum(var_geo_images) for i in var_geo_images]"
   ]
  },
  {
   "cell_type": "code",
   "execution_count": 4,
   "metadata": {},
   "outputs": [],
   "source": [
    "loc = (\"./DMOS_DIBR.xls\"); \n",
    "wb = xlrd.open_workbook(loc) \n",
    "sheet = wb.sheet_by_index(0) \n",
    "dmos=[]\n",
    "for i in range(0,84,1):\n",
    "    dmos.append(sheet.cell_value(i, 0)) "
   ]
  },
  {
   "cell_type": "code",
   "execution_count": 5,
   "metadata": {},
   "outputs": [
    {
     "name": "stdout",
     "output_type": "stream",
     "text": [
      "84\n",
      "84\n"
     ]
    },
    {
     "data": {
      "text/plain": [
       "(-0.6355511439245668, 8.3283726354326138e-11)"
      ]
     },
     "execution_count": 5,
     "metadata": {},
     "output_type": "execute_result"
    }
   ],
   "source": [
    "print(len(dmos))\n",
    "print(len(count))\n",
    "pearsonr(count,dmos)"
   ]
  },
  {
   "cell_type": "code",
   "execution_count": 23,
   "metadata": {},
   "outputs": [],
   "source": [
    "# Check matching between columns\n",
    "column_count=[]\n",
    "for img in images:\n",
    "    c=0\n",
    "    for j in range(0,len(img[0])-1,1):\n",
    "        if np.all(img[:,j]==img[:,j+1]):\n",
    "            c=c+1\n",
    "    column_count.append(c)"
   ]
  },
  {
   "cell_type": "code",
   "execution_count": 61,
   "metadata": {},
   "outputs": [
    {
     "name": "stdout",
     "output_type": "stream",
     "text": [
      "('Norm Count', (-0.63555114392456658, 8.3283726354327456e-11))\n",
      "('Norm Column Count', (-0.4418959859020129, 2.5750640364889461e-05))\n",
      "('Norm Combine', (-0.64936989848970972, 2.3618150008636218e-11))\n"
     ]
    }
   ],
   "source": [
    "norm_count = [float(i)/sum(count) for i in count]\n",
    "norm_column_count = [float(i)/sum(column_count) for i in column_count]\n",
    "norm_combine = [5*norm_count[i]+norm_column_count[i]-0.8*norm_images[i] for i in range(0,84,1)]\n",
    "print(\"Norm Count\",pearsonr(norm_count,dmos))\n",
    "print(\"Norm Column Count\",pearsonr(norm_column_count,dmos))\n",
    "print(\"Norm Combine\",pearsonr(norm_combine,dmos))"
   ]
  },
  {
   "cell_type": "markdown",
   "metadata": {},
   "source": [
    "**Trying to detect blurness in original image.**\n",
    "1. Using Gaussian Filter\n",
    "2. Using Bilateral Filter"
   ]
  },
  {
   "cell_type": "code",
   "execution_count": 11,
   "metadata": {},
   "outputs": [],
   "source": [
    "# Gaussian Filter\n",
    "gaussian_images=[]\n",
    "gaussian_images_distorted=[]\n",
    "for i in range(0,84,1):\n",
    "    blur = cv2.GaussianBlur(images[i],(5,5),0)\n",
    "    blur_distorted=cv2.GaussianBlur(geo_distortion[i],(5,5),0)\n",
    "    gaussian_images.append(cv2.subtract(images[i],blur));\n",
    "    gaussian_images_distorted.append(cv2.subtract(geo_distortion[i],blur_distorted));\n",
    "for i in range(1,85,1):\n",
    "    cv2.imwrite('Gaussian_Sub_'+str(i)+'.jpg',gaussian_images[i-1])\n",
    "    cv2.imwrite('Distorted_Gaussian_Sub_'+str(i)+'.jpg',gaussian_images_distorted[i-1])"
   ]
  },
  {
   "cell_type": "code",
   "execution_count": 13,
   "metadata": {},
   "outputs": [],
   "source": [
    "# Subtract gaussian images with gaussian images of distorted image\n",
    "gaussian_images_sub=[]\n",
    "for i in range(0,84,1):\n",
    "    gaussian_images_sub.append(cv2.subtract(gaussian_images[i],gaussian_images_distorted[i]));\n",
    "for i in range(1,85,1):\n",
    "    cv2.imwrite('Gaussian_Diff_DI_'+str(i)+'.jpg',gaussian_images_sub[i-1])"
   ]
  },
  {
   "cell_type": "code",
   "execution_count": 37,
   "metadata": {},
   "outputs": [],
   "source": [
    "\n",
    "#     var_diff_images.append(cv2.Laplacian(gaussian_images_sub[i], cv2.CV_64F).var())"
   ]
  },
  {
   "cell_type": "code",
   "execution_count": 38,
   "metadata": {},
   "outputs": [
    {
     "name": "stdout",
     "output_type": "stream",
     "text": [
      "(-0.49973458921225833, 1.3014066049851097e-06)\n",
      "(-0.62066027722956318, 3.0233430077943632e-10)\n"
     ]
    }
   ],
   "source": [
    "print(pearsonr(var_images,dmos))\n",
    "print(pearsonr(var_geo_images,dmos))\n",
    "# print(pearsonr(var_diff_images,dmos))"
   ]
  },
  {
   "cell_type": "code",
   "execution_count": 39,
   "metadata": {},
   "outputs": [
    {
     "name": "stdout",
     "output_type": "stream",
     "text": [
      "(-0.49973458921225816, 1.3014066049851179e-06)\n",
      "(-0.49985859511832387, 1.2923257569138136e-06)\n",
      "(-0.57326265630764328, 1.2044619804620715e-08)\n",
      "(-0.56442296714646556, 2.2482519793661132e-08)\n",
      "(-0.57326354016528358, 1.2043857080448328e-08)\n",
      "(-0.0088140071847371045, 0.93657701535158755)\n",
      "(-0.57325579830154128, 1.205053948007329e-08)\n"
     ]
    }
   ],
   "source": [
    "norm_images = [float(i)/sum(var_images) for i in var_images]\n",
    "norm_geo_images = [float(i)/sum(var_geo_images) for i in var_geo_images]\n",
    "norm_geo_count = [float(i)/sum(count) for i in count]\n",
    "norm_geo=[norm_geo_count[i]+2000*norm_geo_images[i] for i in range(0,84,1)]\n",
    "norm_imges_count=[norm_geo_count[i]+2000*norm_images[i] for i in range(0,84,1)]\n",
    "norm_diff_images = [float(i)/sum(var_diff_images) for i in var_diff_images]\n",
    "normm=[norm_geo_count[i]+norm_images[i]+2000*norm_geo_images[i]+norm_diff_images[i] for i in range(0,84,1)]\n",
    "print(pearsonr(norm_images,dmos))\n",
    "print(pearsonr(norm_imges_count,dmos))\n",
    "print(pearsonr(norm_geo_images,dmos))\n",
    "print(pearsonr(norm_geo_count,dmos))\n",
    "print(pearsonr(norm_geo,dmos))\n",
    "print(pearsonr(norm_diff_images,dmos))\n",
    "print(pearsonr(normm,dmos))"
   ]
  },
  {
   "cell_type": "code",
   "execution_count": null,
   "metadata": {},
   "outputs": [],
   "source": []
  },
  {
   "cell_type": "code",
   "execution_count": null,
   "metadata": {},
   "outputs": [],
   "source": []
  },
  {
   "cell_type": "markdown",
   "metadata": {},
   "source": [
    "**Showing Raw Images**"
   ]
  },
  {
   "cell_type": "code",
   "execution_count": 40,
   "metadata": {},
   "outputs": [],
   "source": [
    "med_images=[]\n",
    "for i in images:\n",
    "    med_images.append(cv2.medianBlur(i,5));"
   ]
  },
  {
   "cell_type": "code",
   "execution_count": 41,
   "metadata": {},
   "outputs": [],
   "source": [
    "var_med_images=[]\n",
    "for i in range(0,84,1):\n",
    "    var_med_images.append(cv2.Laplacian(med_images[i], cv2.CV_64F).var())"
   ]
  },
  {
   "cell_type": "code",
   "execution_count": 42,
   "metadata": {},
   "outputs": [
    {
     "data": {
      "text/plain": [
       "(-0.49391220137140485, 1.8024358124937584e-06)"
      ]
     },
     "execution_count": 42,
     "metadata": {},
     "output_type": "execute_result"
    }
   ],
   "source": [
    "pearsonr(var_med_images,dmos)"
   ]
  },
  {
   "cell_type": "code",
   "execution_count": 43,
   "metadata": {},
   "outputs": [],
   "source": [
    "kernel = np.ones((5,5),np.uint8)\n",
    "closing_images=[]\n",
    "for i in images:\n",
    "    closing_images.append(cv2.morphologyEx(i, cv2.MORPH_CLOSE, kernel));"
   ]
  },
  {
   "cell_type": "code",
   "execution_count": 45,
   "metadata": {},
   "outputs": [],
   "source": [
    "geo_distortion_closing=[]\n",
    "count_closing=[]\n",
    "for img in closing_images:\n",
    "    ii=np.zeros((len(img),len(img[0])),dtype=np.float64);\n",
    "    c=5\n",
    "    for i in range(0,len(img),1):\n",
    "        for j in range(0,len(img[0]),1):\n",
    "            if img[i][j]!=0:\n",
    "                ii[i][j]=255.0;\n",
    "            else:\n",
    "                c=c+1;\n",
    "    geo_distortion_closing.append(ii);\n",
    "    count_closing.append(c);"
   ]
  },
  {
   "cell_type": "code",
   "execution_count": 46,
   "metadata": {},
   "outputs": [
    {
     "data": {
      "text/plain": [
       "(-0.55993230295768048, 3.0657039253594429e-08)"
      ]
     },
     "execution_count": 46,
     "metadata": {},
     "output_type": "execute_result"
    }
   ],
   "source": [
    "for i in range(1,85,1):\n",
    "    cv2.imwrite(\"Closing_\"+str(i)+'_'+str(count_closing[i-1])+'.jpg',geo_distortion_closing[i-1])\n",
    "pearsonr(count_closing,dmos)"
   ]
  },
  {
   "cell_type": "code",
   "execution_count": 57,
   "metadata": {},
   "outputs": [
    {
     "name": "stderr",
     "output_type": "stream",
     "text": [
      "/usr/local/lib/python2.7/dist-packages/ipykernel_launcher.py:7: RuntimeWarning: overflow encountered in ubyte_scalars\n",
      "  import sys\n"
     ]
    }
   ],
   "source": [
    "# Sub closed image with original image\n",
    "subtracted_images=[]\n",
    "for k in range(0,84,1):\n",
    "    temp=np.zeros((len(images[0]),len(images[0][0])))\n",
    "    for i in range(0,len(images[0]),1):\n",
    "        for j in range(0,len(images[0][0]),1):\n",
    "                temp[i,j]=abs(closing_images[k][i,j]-images[k][i,j])-images[k][i,j];\n",
    "    subtracted_images.append(temp);"
   ]
  },
  {
   "cell_type": "code",
   "execution_count": 58,
   "metadata": {},
   "outputs": [],
   "source": [
    "for i in range(1,85,1):\n",
    "    cv2.imwrite(\"Subtracted_\"+str(i)+'_'+str(count_closing[i-1])+'.jpg',subtracted_images[i-1])"
   ]
  },
  {
   "cell_type": "code",
   "execution_count": 55,
   "metadata": {},
   "outputs": [],
   "source": [
    "sum_in_sub_dark=[]\n",
    "for k in range(0,84,1):\n",
    "    temp=0\n",
    "    for i in range(0,len(images[0]),1):\n",
    "        for j in range(0,len(images[0][0]),1):\n",
    "                temp+=subtracted_images[k][i,j];\n",
    "    sum_in_sub_dark.append(temp);"
   ]
  },
  {
   "cell_type": "code",
   "execution_count": 56,
   "metadata": {},
   "outputs": [
    {
     "data": {
      "text/plain": [
       "(-0.40356214251047223, 0.00014093659087077598)"
      ]
     },
     "execution_count": 56,
     "metadata": {},
     "output_type": "execute_result"
    }
   ],
   "source": [
    "pearsonr(sum_in_sub_dark,dmos)"
   ]
  },
  {
   "cell_type": "code",
   "execution_count": 34,
   "metadata": {},
   "outputs": [],
   "source": [
    "sift = cv2.xfeatures2d.SIFT_create()\n",
    "count_original_sift=[]\n",
    "for img in images:\n",
    "    kp, des = sift.detectAndCompute(img,None)\n",
    "    count_original_sift.append(len(kp));"
   ]
  },
  {
   "cell_type": "code",
   "execution_count": 30,
   "metadata": {},
   "outputs": [],
   "source": [
    "count_distorted_sift=[]\n",
    "for img in geo_distortion:\n",
    "    kp, des = sift.detectAndCompute(img,None)\n",
    "    count_distorted_sift.append(len(kp));"
   ]
  },
  {
   "cell_type": "code",
   "execution_count": 42,
   "metadata": {},
   "outputs": [
    {
     "name": "stdout",
     "output_type": "stream",
     "text": [
      "0\n",
      "[0.0, 0.0, 0.18411967779056387, 0.0, 0.0, 0.0, 0.0, 0.0, 0.0, 0.0832282471626734, 0.0, 0.0, 0.0, 0.0, 0.0, 0.0, 0.09543742151527836, 0.0, 0.0, 0.0, 0.0, 0.0, 0.0, 0.1654733492442323, 0.0, 0.0, 0.0, 0.0, 0.0, 0.0, 0.04342017368069472, 0.0, 0.0, 0.0, 0.0, 0.0, 0.0, 0.025847599865726753, 0.0, 0.0, 0.0, 0.0, 0.0, 0.0, 0.02904841402337229, 0.0, 0.0, 0.0, 0.0, 0.0, 0.0, 0.041708043694141016, 0.0, 0.0, 0.0, 0.0, 0.0, 0.0, 0.19743935309973046, 0.0, 0.0, 0.0, 0.0, 0.0, 0.0, 0.11243386243386243, 0.0, 0.0, 0.0, 0.0, 0.0, 0.0, 0.14500197550375346, 0.0008485362749257531, 0.0, 0.0, 0.0, 0.0, 0.0, 0.31051009928106815, 0.004568106312292359, 0.0, 0.0, 0.0]\n"
     ]
    },
    {
     "data": {
      "text/plain": [
       "(-0.56585934886324529, 2.0339521995648248e-08)"
      ]
     },
     "execution_count": 42,
     "metadata": {},
     "output_type": "execute_result"
    }
   ],
   "source": [
    "print(4//8)\n",
    "count_ratio=[]\n",
    "for i in range(0,84,1):\n",
    "    count_ratio.append(float(count_distorted_sift[i])/float(count_original_sift[i]));\n",
    "print(count_ratio)\n",
    "pearsonr(count_ratio,dmos)\n",
    "# print(len(count_distorted_sift)"
   ]
  },
  {
   "cell_type": "code",
   "execution_count": null,
   "metadata": {},
   "outputs": [],
   "source": [
    "bilateral_images=[]\n",
    "for i in closing_images:\n",
    "    bilateral_images.append(cv2.bilateralFilter(i,9,75,75));"
   ]
  },
  {
   "cell_type": "code",
   "execution_count": null,
   "metadata": {},
   "outputs": [],
   "source": []
  },
  {
   "cell_type": "code",
   "execution_count": null,
   "metadata": {},
   "outputs": [],
   "source": []
  },
  {
   "cell_type": "code",
   "execution_count": null,
   "metadata": {},
   "outputs": [],
   "source": []
  },
  {
   "cell_type": "code",
   "execution_count": null,
   "metadata": {},
   "outputs": [],
   "source": []
  },
  {
   "cell_type": "markdown",
   "metadata": {},
   "source": []
  },
  {
   "cell_type": "code",
   "execution_count": null,
   "metadata": {},
   "outputs": [],
   "source": []
  },
  {
   "cell_type": "markdown",
   "metadata": {},
   "source": [
    "**Defining Demosaicing function. Bilinear Approach has been used for interpolation.**"
   ]
  },
  {
   "cell_type": "code",
   "execution_count": null,
   "metadata": {},
   "outputs": [],
   "source": []
  },
  {
   "cell_type": "markdown",
   "metadata": {},
   "source": [
    "**Generating Demosaiced image, and storing them in \"Predicted\" folder**"
   ]
  },
  {
   "cell_type": "code",
   "execution_count": null,
   "metadata": {},
   "outputs": [],
   "source": []
  },
  {
   "cell_type": "markdown",
   "metadata": {},
   "source": [
    "**Defining function for Mean square error and PSNR computation**"
   ]
  },
  {
   "cell_type": "code",
   "execution_count": null,
   "metadata": {},
   "outputs": [],
   "source": []
  },
  {
   "cell_type": "markdown",
   "metadata": {},
   "source": [
    "**Showing some Demosaiced Images**"
   ]
  },
  {
   "cell_type": "code",
   "execution_count": null,
   "metadata": {
    "scrolled": true
   },
   "outputs": [],
   "source": []
  },
  {
   "cell_type": "markdown",
   "metadata": {},
   "source": [
    "**Computing PSNR for Demosaiced images with respect to original rgb images.**"
   ]
  },
  {
   "cell_type": "code",
   "execution_count": null,
   "metadata": {},
   "outputs": [],
   "source": []
  },
  {
   "cell_type": "markdown",
   "metadata": {},
   "source": [
    "**Defining Bilateral filter**"
   ]
  },
  {
   "cell_type": "code",
   "execution_count": null,
   "metadata": {},
   "outputs": [],
   "source": []
  },
  {
   "cell_type": "markdown",
   "metadata": {},
   "source": [
    "**Applying Bilateral filter on Demosaiced images**"
   ]
  },
  {
   "cell_type": "code",
   "execution_count": null,
   "metadata": {},
   "outputs": [],
   "source": []
  },
  {
   "cell_type": "markdown",
   "metadata": {},
   "source": [
    "**Storing Images are after applying Bilateral filter.**"
   ]
  },
  {
   "cell_type": "code",
   "execution_count": null,
   "metadata": {},
   "outputs": [],
   "source": []
  },
  {
   "cell_type": "markdown",
   "metadata": {},
   "source": [
    "**Computing PSNR for demosaiced images after applying Bilateral filter.**"
   ]
  },
  {
   "cell_type": "code",
   "execution_count": null,
   "metadata": {
    "scrolled": true
   },
   "outputs": [],
   "source": []
  },
  {
   "cell_type": "markdown",
   "metadata": {},
   "source": [
    "**After applying Bilateral filter,PSNR of Images reduced.**"
   ]
  },
  {
   "cell_type": "code",
   "execution_count": null,
   "metadata": {},
   "outputs": [],
   "source": []
  },
  {
   "cell_type": "code",
   "execution_count": null,
   "metadata": {
    "scrolled": true
   },
   "outputs": [],
   "source": []
  },
  {
   "cell_type": "code",
   "execution_count": null,
   "metadata": {},
   "outputs": [],
   "source": []
  }
 ],
 "metadata": {
  "kernelspec": {
   "display_name": "Python 2",
   "language": "python",
   "name": "python2"
  },
  "language_info": {
   "codemirror_mode": {
    "name": "ipython",
    "version": 2
   },
   "file_extension": ".py",
   "mimetype": "text/x-python",
   "name": "python",
   "nbconvert_exporter": "python",
   "pygments_lexer": "ipython2",
   "version": "2.7.12"
  }
 },
 "nbformat": 4,
 "nbformat_minor": 2
}
