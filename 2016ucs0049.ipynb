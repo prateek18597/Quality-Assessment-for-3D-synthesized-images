{
 "cells": [
  {
   "cell_type": "markdown",
   "metadata": {},
   "source": [
    "**Importing Useful Libraries**"
   ]
  },
  {
   "cell_type": "code",
   "execution_count": 1,
   "metadata": {},
   "outputs": [],
   "source": [
    "import cv2\n",
    "import numpy as np\n",
    "from numpy.linalg import inv\n",
    "import math\n",
    "import sys\n",
    "%matplotlib inline\n",
    "import matplotlib.pyplot as plt\n",
    "import matplotlib.image as mpimg\n",
    "import xlrd\n",
    "from skimage.measure import structural_similarity as ssim\n",
    "from scipy.stats.stats import pearsonr"
   ]
  },
  {
   "cell_type": "markdown",
   "metadata": {},
   "source": [
    "**Loading Raw and Original Images(Bayer Canon Images without Noise are used)**"
   ]
  },
  {
   "cell_type": "code",
   "execution_count": 9,
   "metadata": {},
   "outputs": [],
   "source": [
    "images=[]\n",
    "oimages=[]\n",
    "for i in range(1,85,1):\n",
    "    images.append(cv2.imread(\"./DIBR_Data/\"+str(i)+\".png\",0));"
   ]
  },
  {
   "cell_type": "code",
   "execution_count": 24,
   "metadata": {},
   "outputs": [],
   "source": [
    "geo_distortion=[]\n",
    "count=[]\n",
    "for img in images:\n",
    "    ii=np.empty((len(img),len(img[0])),dtype=np.uint8);\n",
    "    c=5\n",
    "    for i in range(0,len(img),1):\n",
    "        for j in range(0,len(img[0]),1):\n",
    "            if img[i][j]!=0:\n",
    "                ii[i][j]=255;\n",
    "            else:\n",
    "                ii[i][j]=0;\n",
    "                c=c+1;\n",
    "    geo_distortion.append(ii);\n",
    "    count.append(c);"
   ]
  },
  {
   "cell_type": "code",
   "execution_count": 18,
   "metadata": {},
   "outputs": [],
   "source": [
    "loc = (\"./DMOS_DIBR.xls\"); \n",
    "wb = xlrd.open_workbook(loc) \n",
    "sheet = wb.sheet_by_index(0) \n",
    "dmos=[]\n",
    "for i in range(0,84,1):\n",
    "    dmos.append(sheet.cell_value(i, 0)) "
   ]
  },
  {
   "cell_type": "code",
   "execution_count": 25,
   "metadata": {},
   "outputs": [
    {
     "name": "stdout",
     "output_type": "stream",
     "text": [
      "84\n",
      "84\n"
     ]
    },
    {
     "data": {
      "text/plain": [
       "(-0.56442296714646556, 2.2482519793661132e-08)"
      ]
     },
     "execution_count": 25,
     "metadata": {},
     "output_type": "execute_result"
    }
   ],
   "source": [
    "print(len(dmos))\n",
    "print(len(count))\n",
    "pearsonr(count,dmos)"
   ]
  },
  {
   "cell_type": "code",
   "execution_count": null,
   "metadata": {},
   "outputs": [],
   "source": [
    "#2nd method\n",
    "geo_distortion=[]\n",
    "count=[]\n",
    "for img in images:\n",
    "    ii=np.zeros((len(img),len(img[0])),dtype=np.float64);\n",
    "    c=5\n",
    "    for i in range(0,len(img),1):\n",
    "        for j in range(0,len(img[0]),1):\n",
    "            if img[i][j][1]!=0:\n",
    "                ii[i][j]=255.0;\n",
    "            else:\n",
    "                c=c+1;\n",
    "    geo_distortion.append(ii);\n",
    "    count.append(c);"
   ]
  },
  {
   "cell_type": "code",
   "execution_count": null,
   "metadata": {},
   "outputs": [],
   "source": [
    "for i in range(1,85,1):\n",
    "    cv2.imwrite(str(i)+'_'+str(count[i-1])+'.jpg',geo_distortion[i-1])"
   ]
  },
  {
   "cell_type": "markdown",
   "metadata": {},
   "source": [
    "**Showing Raw Images**"
   ]
  },
  {
   "cell_type": "code",
   "execution_count": null,
   "metadata": {},
   "outputs": [],
   "source": [
    "med_images=[]\n",
    "for i in images:\n",
    "    med_images.append(cv2.medianBlur(i,5));"
   ]
  },
  {
   "cell_type": "code",
   "execution_count": null,
   "metadata": {},
   "outputs": [],
   "source": [
    "geo_distortion_med=[]\n",
    "count_med=[]\n",
    "for img in med_images:\n",
    "    ii=np.zeros((len(img),len(img[0])),dtype=np.float64);\n",
    "    c=5\n",
    "    for i in range(0,len(img),1):\n",
    "        for j in range(0,len(img[0]),1):\n",
    "            if img[i][j][1]!=0:\n",
    "                ii[i][j]=255.0;\n",
    "            else:\n",
    "                c=c+1;\n",
    "    geo_distortion_med.append(ii);\n",
    "    count_med.append(c);"
   ]
  },
  {
   "cell_type": "code",
   "execution_count": null,
   "metadata": {},
   "outputs": [],
   "source": [
    "pearsonr(count_med,dmos)"
   ]
  },
  {
   "cell_type": "code",
   "execution_count": 43,
   "metadata": {},
   "outputs": [],
   "source": [
    "kernel = np.ones((5,5),np.uint8)\n",
    "closing_images=[]\n",
    "for i in images:\n",
    "    closing_images.append(cv2.morphologyEx(i, cv2.MORPH_CLOSE, kernel));"
   ]
  },
  {
   "cell_type": "code",
   "execution_count": 45,
   "metadata": {},
   "outputs": [],
   "source": [
    "geo_distortion_closing=[]\n",
    "count_closing=[]\n",
    "for img in closing_images:\n",
    "    ii=np.zeros((len(img),len(img[0])),dtype=np.float64);\n",
    "    c=5\n",
    "    for i in range(0,len(img),1):\n",
    "        for j in range(0,len(img[0]),1):\n",
    "            if img[i][j]!=0:\n",
    "                ii[i][j]=255.0;\n",
    "            else:\n",
    "                c=c+1;\n",
    "    geo_distortion_closing.append(ii);\n",
    "    count_closing.append(c);"
   ]
  },
  {
   "cell_type": "code",
   "execution_count": 46,
   "metadata": {},
   "outputs": [
    {
     "data": {
      "text/plain": [
       "(-0.55993230295768048, 3.0657039253594429e-08)"
      ]
     },
     "execution_count": 46,
     "metadata": {},
     "output_type": "execute_result"
    }
   ],
   "source": [
    "for i in range(1,85,1):\n",
    "    cv2.imwrite(\"Closing_\"+str(i)+'_'+str(count_closing[i-1])+'.jpg',geo_distortion_closing[i-1])\n",
    "pearsonr(count_closing,dmos)"
   ]
  },
  {
   "cell_type": "code",
   "execution_count": 57,
   "metadata": {},
   "outputs": [
    {
     "name": "stderr",
     "output_type": "stream",
     "text": [
      "/usr/local/lib/python2.7/dist-packages/ipykernel_launcher.py:7: RuntimeWarning: overflow encountered in ubyte_scalars\n",
      "  import sys\n"
     ]
    }
   ],
   "source": [
    "# Sub closed image with original image\n",
    "subtracted_images=[]\n",
    "for k in range(0,84,1):\n",
    "    temp=np.zeros((len(images[0]),len(images[0][0])))\n",
    "    for i in range(0,len(images[0]),1):\n",
    "        for j in range(0,len(images[0][0]),1):\n",
    "                temp[i,j]=abs(closing_images[k][i,j]-images[k][i,j])-images[k][i,j];\n",
    "    subtracted_images.append(temp);"
   ]
  },
  {
   "cell_type": "code",
   "execution_count": 58,
   "metadata": {},
   "outputs": [],
   "source": [
    "for i in range(1,85,1):\n",
    "    cv2.imwrite(\"Subtracted_\"+str(i)+'_'+str(count_closing[i-1])+'.jpg',subtracted_images[i-1])"
   ]
  },
  {
   "cell_type": "code",
   "execution_count": 55,
   "metadata": {},
   "outputs": [],
   "source": [
    "sum_in_sub_dark=[]\n",
    "for k in range(0,84,1):\n",
    "    temp=0\n",
    "    for i in range(0,len(images[0]),1):\n",
    "        for j in range(0,len(images[0][0]),1):\n",
    "                temp+=subtracted_images[k][i,j];\n",
    "    sum_in_sub_dark.append(temp);"
   ]
  },
  {
   "cell_type": "code",
   "execution_count": 56,
   "metadata": {},
   "outputs": [
    {
     "data": {
      "text/plain": [
       "(-0.40356214251047223, 0.00014093659087077598)"
      ]
     },
     "execution_count": 56,
     "metadata": {},
     "output_type": "execute_result"
    }
   ],
   "source": [
    "pearsonr(sum_in_sub_dark,dmos)"
   ]
  },
  {
   "cell_type": "code",
   "execution_count": 34,
   "metadata": {},
   "outputs": [],
   "source": [
    "sift = cv2.xfeatures2d.SIFT_create()\n",
    "count_original_sift=[]\n",
    "for img in images:\n",
    "    kp, des = sift.detectAndCompute(img,None)\n",
    "    count_original_sift.append(len(kp));"
   ]
  },
  {
   "cell_type": "code",
   "execution_count": 30,
   "metadata": {},
   "outputs": [],
   "source": [
    "count_distorted_sift=[]\n",
    "for img in geo_distortion:\n",
    "    kp, des = sift.detectAndCompute(img,None)\n",
    "    count_distorted_sift.append(len(kp));"
   ]
  },
  {
   "cell_type": "code",
   "execution_count": 42,
   "metadata": {},
   "outputs": [
    {
     "name": "stdout",
     "output_type": "stream",
     "text": [
      "0\n",
      "[0.0, 0.0, 0.18411967779056387, 0.0, 0.0, 0.0, 0.0, 0.0, 0.0, 0.0832282471626734, 0.0, 0.0, 0.0, 0.0, 0.0, 0.0, 0.09543742151527836, 0.0, 0.0, 0.0, 0.0, 0.0, 0.0, 0.1654733492442323, 0.0, 0.0, 0.0, 0.0, 0.0, 0.0, 0.04342017368069472, 0.0, 0.0, 0.0, 0.0, 0.0, 0.0, 0.025847599865726753, 0.0, 0.0, 0.0, 0.0, 0.0, 0.0, 0.02904841402337229, 0.0, 0.0, 0.0, 0.0, 0.0, 0.0, 0.041708043694141016, 0.0, 0.0, 0.0, 0.0, 0.0, 0.0, 0.19743935309973046, 0.0, 0.0, 0.0, 0.0, 0.0, 0.0, 0.11243386243386243, 0.0, 0.0, 0.0, 0.0, 0.0, 0.0, 0.14500197550375346, 0.0008485362749257531, 0.0, 0.0, 0.0, 0.0, 0.0, 0.31051009928106815, 0.004568106312292359, 0.0, 0.0, 0.0]\n"
     ]
    },
    {
     "data": {
      "text/plain": [
       "(-0.56585934886324529, 2.0339521995648248e-08)"
      ]
     },
     "execution_count": 42,
     "metadata": {},
     "output_type": "execute_result"
    }
   ],
   "source": [
    "print(4//8)\n",
    "count_ratio=[]\n",
    "for i in range(0,84,1):\n",
    "    count_ratio.append(float(count_distorted_sift[i])/float(count_original_sift[i]));\n",
    "print(count_ratio)\n",
    "pearsonr(count_ratio,dmos)\n",
    "# print(len(count_distorted_sift)"
   ]
  },
  {
   "cell_type": "code",
   "execution_count": null,
   "metadata": {},
   "outputs": [],
   "source": [
    "bilateral_images=[]\n",
    "for i in closing_images:\n",
    "    bilateral_images.append(cv2.bilateralFilter(i,9,75,75));"
   ]
  },
  {
   "cell_type": "code",
   "execution_count": null,
   "metadata": {},
   "outputs": [],
   "source": [
    "def mse(o,p):\n",
    "    error=0.0;\n",
    "    for k in range(0,o.shape[2],1):\n",
    "        for i in range(0,o.shape[0],1):\n",
    "            for j in range(0,o.shape[1],1):\n",
    "                e=o[i,j,k]-p[i,j,k];\n",
    "                error+=e*e;\n",
    "    return error/(o.shape[0]*o.shape[1]*o.shape[2])\n",
    "\n",
    "def psnr(mse):\n",
    "\treturn 10*math.log10((255*255)/mse)"
   ]
  },
  {
   "cell_type": "code",
   "execution_count": null,
   "metadata": {},
   "outputs": [],
   "source": [
    "Psnr=[]\n",
    "for i in range(0,84,1):\n",
    "    m=mse(images[i],bilateral_images[i]);\n",
    "    Psnr.append(psnr(m));"
   ]
  },
  {
   "cell_type": "code",
   "execution_count": null,
   "metadata": {},
   "outputs": [],
   "source": [
    "for i in range(1,85,1):\n",
    "    cv2.imwrite(str(i)+'_1.jpg',closing_images[i-1][:,:,0])\n",
    "    cv2.imwrite(str(i)+'_2.jpg',closing_images[i-1][:,:,1])\n",
    "    cv2.imwrite(str(i)+'_3.jpg',closing_images[i-1][:,:,2])"
   ]
  },
  {
   "cell_type": "code",
   "execution_count": null,
   "metadata": {},
   "outputs": [],
   "source": [
    "print(Psnr)"
   ]
  },
  {
   "cell_type": "markdown",
   "metadata": {},
   "source": []
  },
  {
   "cell_type": "code",
   "execution_count": null,
   "metadata": {},
   "outputs": [],
   "source": [
    "for i in range(0,len(images),1):\n",
    "    for x in range(1,images[i].shape[0],2):\n",
    "        images[i][x,:,0]=0;\n",
    "    for x in range(1,images[i].shape[1],2):\n",
    "        images[i][:,x,0]=0;\n",
    " \n",
    "    for x in range(0,images[i].shape[0],1):\n",
    "        for y in range(0,images[i].shape[1],1):\n",
    "            if (x%2==0 and y%2==0):\n",
    "                images[i][x,y,1]=0;\n",
    "            elif (x%2==1 and y%2==1):\n",
    "                images[i][x,y,1]=0;\n",
    "    \n",
    "    for x in range(0,images[i].shape[0],2):\n",
    "        images[i][x,:,2]=0;\n",
    "    for x in range(0,images[i].shape[1],2):\n",
    "        images[i][:,x,2]=0;\n",
    "        "
   ]
  },
  {
   "cell_type": "markdown",
   "metadata": {},
   "source": [
    "**Defining Demosaicing function. Bilinear Approach has been used for interpolation.**"
   ]
  },
  {
   "cell_type": "code",
   "execution_count": null,
   "metadata": {},
   "outputs": [],
   "source": [
    "def Demosaicing(img):\n",
    "#For Red Layer\n",
    "    \n",
    "    for i in range(0,img.shape[0],2):\n",
    "        for j in range(1,img.shape[1],2):\n",
    "            if j+1<img.shape[1]:\n",
    "                img[i,j,0]=int(math.ceil((img[i,j-1,0]/2.0)+(img[i,j+1,0]/2.0)));\n",
    "    \n",
    "    for i in range(1,img.shape[0],2):\n",
    "        for j in range(0,img.shape[1],2):\n",
    "            if i+1<img.shape[0]:\n",
    "                img[i,j,0]=int(math.ceil((img[i-1,j,0]/2.0)+(img[i+1,j,0]/2.0)));\n",
    "    \n",
    "    for i in range(1,img.shape[0],2):\n",
    "        for j in range(1,img.shape[1],2):\n",
    "            if i+1<img.shape[0] and j+1<img.shape[1]:\n",
    "                img[i,j,0]=int(math.ceil((img[i-1,j-1,0]/4.0)+(img[i-1,j+1,0]/4.0)+(img[i+1,j-1,0]/4.0)+(img[i+1,j+1,0]/4.0)));\n",
    "    \n",
    "    if img.shape[0]%2==0:\n",
    "        img[img.shape[0]-1,:,0]=img[img.shape[0]-2,:,0]\n",
    "    \n",
    "    if img.shape[1]%2==0:\n",
    "        img[:,img.shape[1]-1,0]=img[:,img.shape[1]-2,0]\n",
    "    \n",
    "    if img.shape[0]%2==0 and img.shape[1]%2==0:\n",
    "        img[img.shape[0]-1,img.shape[1]-1,0]=img[img.shape[0]-2,img.shape[1]-2,0]\n",
    "\n",
    "#For Green Layer\n",
    "    \n",
    "    for i in range(1,img.shape[0],2):\n",
    "        for j in range(1,img.shape[1],2):\n",
    "            if i+1<img.shape[0] and j+1<img.shape[1]:\n",
    "                img[i,j,1]=int(math.ceil((img[i-1,j,1]/4.0)+(img[i,j+1,1]/4.0)+(img[i+1,j,1]/4.0)+(img[i,j-1,1]/4.0)));\n",
    "    \n",
    "    for i in range(2,img.shape[0],2):\n",
    "        for j in range(2,img.shape[1],2):\n",
    "            if i+1<img.shape[0] and j+1<img.shape[1]:\n",
    "                img[i,j,1]=int(math.ceil((img[i-1,j,1]/4.0)+(img[i,j+1,1]/4.0)+(img[i+1,j,1]/4.0)+(img[i,j-1,1]/4.0)));\n",
    "    \n",
    "    img[0,0,1]=int(math.ceil(img[0,1,1]/2.0+img[1,0,1]/2.0))\n",
    "    \n",
    "    for j in range(2,img.shape[1]-1,2):\n",
    "        img[0,j,1]=int(math.ceil((img[0,j-1,1]/3.0)+(img[0,j+1,1]/3.0)+(img[1,j,1]/3.0)))\n",
    "    \n",
    "    for i in range(2,img.shape[0]-1,2):\n",
    "        img[i,0,1]=int(math.ceil((img[i-1,0,1]/3.0)+(img[i+1,0,1]/3.0)+(img[i,1,1]/3.0)))\n",
    "    \n",
    "    if img.shape[0]%2==0:\n",
    "        img[img.shape[0]-1,img.shape[1]-1,1]=int(math.ceil((img[img.shape[0]-2,img.shape[1]-1,1]/2.0)+(img[img.shape[0]-1,img.shape[1]-2,1]/2.0)));\n",
    "        for j in range(1,img.shape[1]-1,2):\n",
    "            img[img.shape[0]-1,j,1]=int(math.ceil((img[img.shape[0]-1,j-1,1]/3.0)+(img[img.shape[0]-1,j+1,1]/3.0)+(img[img.shape[0]-2,j,1]/3.0)))\n",
    "    else:\n",
    "        img[img.shape[0]-1,0,1]=int(math.ceil((img[img.shape[0]-2,0,1]/2.0)+(img[img.shape[0]-1,1,1]/2.0)));\n",
    "        for j in range(2,img.shape[1]-1,2):\n",
    "            img[img.shape[0]-1,j,1]=int(math.ceil((img[img.shape[0]-1,j-1,1]/3.0)+(img[img.shape[0]-1,j+1,1]/3.0)+(img[img.shape[0]-1,j,1]/3.0)))\n",
    "    \n",
    "    if img.shape[1]%2==0:\n",
    "        for i in range(1,img.shape[0]-1,2):\n",
    "            img[i,img.shape[1]-1,1]=int(math.ceil((img[i-1,img.shape[1]-1,1]/3.0)+(img[i+1,img.shape[1]-1,1]/3.0)+(img[i,img.shape[1]-2,1]/3.0)))\n",
    "    else:\n",
    "        for j in range(2,img.shape[1]-1,2):\n",
    "            img[i,img.shape[1]-1,1]=int(math.ceil((img[i-1,img.shape[1]-1,1]/3.0)+(img[i+1,img.shape[1]-1,1]/3.0)+(img[i,img.shape[1]-2,1]/3.0)))\n",
    "#For Blue layer\n",
    "    \n",
    "    for i in range(1,img.shape[0],2):\n",
    "        for j in range(2,img.shape[1],2):\n",
    "            if j+1<img.shape[1]:\n",
    "                img[i,j,2]=int(math.ceil((img[i,j-1,2]/2.0)+(img[i,j+1,2]/2.0)));\n",
    "    \n",
    "    for i in range(2,img.shape[0],2):\n",
    "        for j in range(1,img.shape[1],2):\n",
    "            if i+1<img.shape[0]:\n",
    "                img[i,j,2]=int(math.ceil((img[i-1,j,2]/2.0)+(img[i+1,j,2]/2.0)));\n",
    "    \n",
    "    for i in range(2,img.shape[0],2):\n",
    "        for j in range(2,img.shape[1],2):\n",
    "            if i+1<img.shape[0] and j+1<img.shape[1]:\n",
    "                img[i,j,2]=int(math.ceil((img[i-1,j-1,2]/4.0)+(img[i-1,j+1,2]/4.0)+(img[i+1,j-1,2]/4.0)+(img[i+1,j+1,2]/4.0)));\n",
    "    \n",
    "    img[0,:,2]=img[1,:,2]\n",
    "    img[:,0,2]=img[:,1,2]\n",
    "    img[0,0,2]=img[1,1,2]\n",
    "    \n",
    "    return img;"
   ]
  },
  {
   "cell_type": "markdown",
   "metadata": {},
   "source": [
    "**Generating Demosaiced image, and storing them in \"Predicted\" folder**"
   ]
  },
  {
   "cell_type": "code",
   "execution_count": null,
   "metadata": {},
   "outputs": [],
   "source": [
    "Images=[]\n",
    "for i in images: \n",
    "    Images.append(Demosaicing(i))\n",
    "for i in range(0,len(Images),1):\n",
    "    cv2.imwrite(\"Predicted/\"+str(i+1)+\".png\",cv2.cvtColor(Images[i], cv2.COLOR_BGR2RGB));"
   ]
  },
  {
   "cell_type": "markdown",
   "metadata": {},
   "source": [
    "**Defining function for Mean square error and PSNR computation**"
   ]
  },
  {
   "cell_type": "code",
   "execution_count": null,
   "metadata": {},
   "outputs": [],
   "source": [
    "def mse(o,p):\n",
    "    error=0.0;\n",
    "    for k in range(0,o.shape[2],1):\n",
    "        for i in range(0,o.shape[0],1):\n",
    "            for j in range(0,o.shape[1],1):\n",
    "                e=o[i,j,k]-p[i,j,k];\n",
    "                error+=e*e;\n",
    "    return error/(o.shape[0]*o.shape[1]*o.shape[2])\n",
    "\n",
    "def psnr(mse):\n",
    "\treturn 10*math.log10((255*255)/mse)"
   ]
  },
  {
   "cell_type": "markdown",
   "metadata": {},
   "source": [
    "**Showing some Demosaiced Images**"
   ]
  },
  {
   "cell_type": "code",
   "execution_count": null,
   "metadata": {
    "scrolled": true
   },
   "outputs": [],
   "source": [
    "f, ax = plt.subplots(2,2,figsize=(18,18))\n",
    "ax[0,0].imshow(images[0])\n",
    "ax[0,0].set_title(\"Image 1\")\n",
    "ax[0,1].imshow(images[0][:][:][0])\n",
    "ax[0,1].set_title(\"Image 2\")\n",
    "ax[1,0].imshow(images[0][:][:][1])\n",
    "ax[1,0].set_title(\"Image 3\")\n",
    "ax[1,1].imshow(images[0][:][:][2])\n",
    "ax[1,1].set_title(\"Image 4\")"
   ]
  },
  {
   "cell_type": "markdown",
   "metadata": {},
   "source": [
    "**Computing PSNR for Demosaiced images with respect to original rgb images.**"
   ]
  },
  {
   "cell_type": "code",
   "execution_count": null,
   "metadata": {},
   "outputs": [],
   "source": [
    "for i in range(0,50,1):\n",
    "    print(\"PSNR for image \"+str(i+1)+\".png \"+str(psnr(mse(oimages[i],Images[i]))));"
   ]
  },
  {
   "cell_type": "markdown",
   "metadata": {},
   "source": [
    "**Defining Bilateral filter**"
   ]
  },
  {
   "cell_type": "code",
   "execution_count": null,
   "metadata": {},
   "outputs": [],
   "source": [
    "def bilateral_filter(X_matrix,size,sigma_d,sigma_r):\n",
    "\tX=np.zeros((len(X_matrix),len(X_matrix[0])))\n",
    "\tcenter=size//2    \n",
    "\tfor j in range(center,len(X_matrix)-center,1):\n",
    "\t\tfor k in range(center,len(X_matrix[0])-center,1):\n",
    "\t\t\ttemp=0;\n",
    "\t\t\tw_sum=0;\n",
    "\t\t\tfor m in range(-center,center+1,1):\n",
    "\t\t\t\tfor n in range(-center,center+1,1):\n",
    "\t\t\t\t\tw=math.exp(-(((m)**2+(n)**2)/(2*sigma_d*sigma_d))-((abs(X_matrix[j+m][k+n]-X_matrix[j][k]))/(2*sigma_r*sigma_r)))\n",
    "\t\t\t\t\ttemp+=X_matrix[j+m][k+n]*w;\n",
    "\t\t\t\t\tw_sum+=w;\n",
    "\t\t\tX[j][k]=temp//(w_sum);\n",
    "\treturn X;"
   ]
  },
  {
   "cell_type": "markdown",
   "metadata": {},
   "source": [
    "**Applying Bilateral filter on Demosaiced images**"
   ]
  },
  {
   "cell_type": "code",
   "execution_count": null,
   "metadata": {},
   "outputs": [],
   "source": [
    "bImages=[]\n",
    "for i in Images:\n",
    "    i[:,:,0]=bilateral_filter(i[:,:,0],3,2,0.25)\n",
    "    i[:,:,1]=bilateral_filter(i[:,:,1],3,2,0.25)\n",
    "    i[:,:,2]=bilateral_filter(i[:,:,2],3,2,0.25)\n",
    "    bImages.append(i);"
   ]
  },
  {
   "cell_type": "markdown",
   "metadata": {},
   "source": [
    "**Storing Images are after applying Bilateral filter.**"
   ]
  },
  {
   "cell_type": "code",
   "execution_count": null,
   "metadata": {},
   "outputs": [],
   "source": [
    "for i in range(0,len(bImages),1):\n",
    "    cv2.imwrite(\"Bilateral/\"+str(i+1)+\".png\",cv2.cvtColor(bImages[i], cv2.COLOR_BGR2RGB));"
   ]
  },
  {
   "cell_type": "markdown",
   "metadata": {},
   "source": [
    "**Computing PSNR for demosaiced images after applying Bilateral filter.**"
   ]
  },
  {
   "cell_type": "code",
   "execution_count": null,
   "metadata": {
    "scrolled": true
   },
   "outputs": [],
   "source": [
    "for i in range(0,50,1):\n",
    "    print(\"PSNR for image \"+str(i+1)+\".png \"+str(psnr(mse(oimages[i],bImages[i]))));"
   ]
  },
  {
   "cell_type": "markdown",
   "metadata": {},
   "source": [
    "**After applying Bilateral filter,PSNR of Images reduced.**"
   ]
  },
  {
   "cell_type": "code",
   "execution_count": null,
   "metadata": {},
   "outputs": [],
   "source": []
  },
  {
   "cell_type": "code",
   "execution_count": null,
   "metadata": {
    "scrolled": true
   },
   "outputs": [],
   "source": []
  },
  {
   "cell_type": "code",
   "execution_count": null,
   "metadata": {},
   "outputs": [],
   "source": []
  }
 ],
 "metadata": {
  "kernelspec": {
   "display_name": "Python 2",
   "language": "python",
   "name": "python2"
  },
  "language_info": {
   "codemirror_mode": {
    "name": "ipython",
    "version": 2
   },
   "file_extension": ".py",
   "mimetype": "text/x-python",
   "name": "python",
   "nbconvert_exporter": "python",
   "pygments_lexer": "ipython2",
   "version": "2.7.12"
  }
 },
 "nbformat": 4,
 "nbformat_minor": 2
}
